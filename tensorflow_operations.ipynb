{
 "cells": [
  {
   "cell_type": "code",
   "execution_count": 1,
   "metadata": {},
   "outputs": [],
   "source": [
    "import tensorflow as tf"
   ]
  },
  {
   "cell_type": "code",
   "execution_count": 9,
   "metadata": {},
   "outputs": [
    {
     "name": "stdout",
     "output_type": "stream",
     "text": [
      "tf.Tensor(\n",
      "[[1.  2.  3.6 4. ]\n",
      " [6.  4.4 5.5 3. ]], shape=(2, 4), dtype=float32)\n",
      "tf.Tensor(\n",
      "[[1 2 3 4]\n",
      " [6 4 5 3]], shape=(2, 4), dtype=int16)\n"
     ]
    }
   ],
   "source": [
    "two_d_tensor = tf.constant(\n",
    "    [\n",
    "        [1,2,3.6,4],\n",
    "        [6,4.4,5.5,3]\n",
    "    ], \n",
    "    dtype=tf.float32\n",
    ")\n",
    "\n",
    "cast_two_d_tensor = tf.cast(two_d_tensor, dtype=tf.int16)\n",
    "print(two_d_tensor)\n",
    "print(cast_two_d_tensor)"
   ]
  },
  {
   "cell_type": "code",
   "execution_count": 5,
   "metadata": {},
   "outputs": [
    {
     "name": "stdout",
     "output_type": "stream",
     "text": [
      "tf.Tensor(\n",
      "[[[1 2 3]\n",
      "  [9 3 7]]\n",
      "\n",
      " [[1 2 9]\n",
      "  [0 7 7]]], shape=(2, 2, 3), dtype=int32)\n",
      "(2, 2, 3)\n",
      "3\n"
     ]
    }
   ],
   "source": [
    "three_d_tensor = tf.constant(\n",
    "    [\n",
    "        [\n",
    "            [1,2,3],\n",
    "            [9,3,7]\n",
    "        ],\n",
    "        [\n",
    "            [1,2,9],\n",
    "            [0,7,7]\n",
    "        ]\n",
    "    ]\n",
    ")\n",
    "print(three_d_tensor)\n",
    "print(three_d_tensor.shape)\n",
    "print(three_d_tensor.ndim)"
   ]
  },
  {
   "cell_type": "code",
   "execution_count": 6,
   "metadata": {},
   "outputs": [
    {
     "name": "stdout",
     "output_type": "stream",
     "text": [
      "tf.Tensor(\n",
      "[[[[ 1  2  3]\n",
      "   [ 9  3  7]]\n",
      "\n",
      "  [[ 1  2  9]\n",
      "   [ 0  7  7]]\n",
      "\n",
      "  [[ 8  2  3]\n",
      "   [-9  3  7]]\n",
      "\n",
      "  [[ 5  8  9]\n",
      "   [ 9 -8  7]]]], shape=(1, 4, 2, 3), dtype=int32)\n"
     ]
    }
   ],
   "source": [
    "four_d_tensor = tf.constant(\n",
    "    [\n",
    "        [\n",
    "            [\n",
    "                [1,2,3],\n",
    "                [9,3,7]\n",
    "            ],\n",
    "            [\n",
    "                [1,2,9],\n",
    "                [0,7,7]\n",
    "            ],\n",
    "            [\n",
    "                [8,2,3],\n",
    "                [-9,3,7]\n",
    "            ],\n",
    "            [\n",
    "                [5,8,9],\n",
    "                [9,-8,7]\n",
    "            ]\n",
    "        ]\n",
    "    ]\n",
    ")\n",
    "print(four_d_tensor)"
   ]
  },
  {
   "cell_type": "code",
   "execution_count": 10,
   "metadata": {},
   "outputs": [],
   "source": [
    "import numpy as np"
   ]
  },
  {
   "cell_type": "code",
   "execution_count": 11,
   "metadata": {},
   "outputs": [
    {
     "name": "stdout",
     "output_type": "stream",
     "text": [
      "[ 2 -5  8]\n"
     ]
    }
   ],
   "source": [
    "num_array = np.array([2, -5, 8])\n",
    "print(num_array)"
   ]
  },
  {
   "cell_type": "code",
   "execution_count": 12,
   "metadata": {},
   "outputs": [
    {
     "name": "stdout",
     "output_type": "stream",
     "text": [
      "tf.Tensor([ 2 -5  8], shape=(3,), dtype=int64)\n"
     ]
    }
   ],
   "source": [
    "converted_to_tensor = tf.convert_to_tensor(num_array)\n",
    "print(converted_to_tensor)"
   ]
  },
  {
   "cell_type": "code",
   "execution_count": 16,
   "metadata": {},
   "outputs": [
    {
     "name": "stdout",
     "output_type": "stream",
     "text": [
      "tf.Tensor(\n",
      "[[1. 0. 0. 0.]\n",
      " [0. 1. 0. 0.]\n",
      " [0. 0. 1. 0.]], shape=(3, 4), dtype=float32)\n",
      "tf.Tensor(\n",
      "[[3. 0. 0. 0.]\n",
      " [0. 3. 0. 0.]\n",
      " [0. 0. 3. 0.]], shape=(3, 4), dtype=float32)\n"
     ]
    }
   ],
   "source": [
    "eye_tensor = tf.eye(num_rows=3, num_columns=4)\n",
    "print(eye_tensor)\n",
    "print(3*eye_tensor)"
   ]
  },
  {
   "cell_type": "code",
   "execution_count": 18,
   "metadata": {},
   "outputs": [
    {
     "name": "stdout",
     "output_type": "stream",
     "text": [
      "tf.Tensor(\n",
      "[[[[1. 0. 0. 0.]\n",
      "   [0. 1. 0. 0.]\n",
      "   [0. 0. 1. 0.]]\n",
      "\n",
      "  [[1. 0. 0. 0.]\n",
      "   [0. 1. 0. 0.]\n",
      "   [0. 0. 1. 0.]]]\n",
      "\n",
      "\n",
      " [[[1. 0. 0. 0.]\n",
      "   [0. 1. 0. 0.]\n",
      "   [0. 0. 1. 0.]]\n",
      "\n",
      "  [[1. 0. 0. 0.]\n",
      "   [0. 1. 0. 0.]\n",
      "   [0. 0. 1. 0.]]]], shape=(2, 2, 3, 4), dtype=float32)\n",
      "tf.Tensor(\n",
      "[[[1. 0. 0. 0.]\n",
      "  [0. 1. 0. 0.]\n",
      "  [0. 0. 1. 0.]]\n",
      "\n",
      " [[1. 0. 0. 0.]\n",
      "  [0. 1. 0. 0.]\n",
      "  [0. 0. 1. 0.]]], shape=(2, 3, 4), dtype=float32)\n"
     ]
    }
   ],
   "source": [
    "eye_tensor_four = tf.eye(num_rows=3, num_columns=4, batch_shape=[2,2])\n",
    "eye_tensor_three = tf.eye(num_rows=3, num_columns=4, batch_shape=[2,])\n",
    "print(eye_tensor_four)\n",
    "print(eye_tensor_three)"
   ]
  },
  {
   "cell_type": "code",
   "execution_count": 19,
   "metadata": {},
   "outputs": [
    {
     "name": "stdout",
     "output_type": "stream",
     "text": [
      "tf.Tensor(\n",
      "[[4 4 4]\n",
      " [4 4 4]], shape=(2, 3), dtype=int32)\n"
     ]
    }
   ],
   "source": [
    "fill_tensor = tf.fill(dims=[2,3], value=4)\n",
    "print(fill_tensor)"
   ]
  },
  {
   "cell_type": "code",
   "execution_count": 20,
   "metadata": {},
   "outputs": [
    {
     "name": "stdout",
     "output_type": "stream",
     "text": [
      "tf.Tensor(\n",
      "[[[-8 -8 -8]\n",
      "  [-8 -8 -8]]\n",
      "\n",
      " [[-8 -8 -8]\n",
      "  [-8 -8 -8]]], shape=(2, 2, 3), dtype=int32)\n"
     ]
    }
   ],
   "source": [
    "fill_tensor_three = tf.fill(dims=[2,2,3], value=-8)\n",
    "print(fill_tensor_three)"
   ]
  },
  {
   "cell_type": "code",
   "execution_count": 21,
   "metadata": {},
   "outputs": [
    {
     "name": "stdout",
     "output_type": "stream",
     "text": [
      "tf.Tensor(\n",
      "[[[1 1 1]\n",
      "  [1 1 1]]\n",
      "\n",
      " [[1 1 1]\n",
      "  [1 1 1]]], shape=(2, 2, 3), dtype=int32)\n"
     ]
    }
   ],
   "source": [
    "one_like_tensor = tf.ones_like(input=three_d_tensor)\n",
    "print(one_like_tensor)"
   ]
  },
  {
   "cell_type": "code",
   "execution_count": 22,
   "metadata": {},
   "outputs": [
    {
     "data": {
      "text/plain": [
       "<tf.Tensor: shape=(3,), dtype=int32, numpy=array([2, 2, 3], dtype=int32)>"
      ]
     },
     "execution_count": 22,
     "metadata": {},
     "output_type": "execute_result"
    }
   ],
   "source": [
    "t = tf.constant([[[1, 1, 1], [2, 2, 2]], [[3, 3, 3], [4, 4, 4]]])\n",
    "tf.shape(t)"
   ]
  },
  {
   "cell_type": "code",
   "execution_count": 24,
   "metadata": {},
   "outputs": [
    {
     "data": {
      "text/plain": [
       "<tf.Tensor: shape=(2,), dtype=int32, numpy=array([2, 3], dtype=int32)>"
      ]
     },
     "execution_count": 24,
     "metadata": {},
     "output_type": "execute_result"
    }
   ],
   "source": [
    "t = tf.constant([[1, 1, 1], [2, 2, 2]])\n",
    "tf.shape(t)"
   ]
  },
  {
   "cell_type": "code",
   "execution_count": 25,
   "metadata": {},
   "outputs": [
    {
     "data": {
      "text/plain": [
       "<tf.Tensor: shape=(), dtype=int32, numpy=12>"
      ]
     },
     "execution_count": 25,
     "metadata": {},
     "output_type": "execute_result"
    }
   ],
   "source": [
    "t = tf.constant([[[1, 1, 1], [2, 2, 2]], [[3, 3, 3], [4, 4, 4]]])\n",
    "tf.size(t)"
   ]
  },
  {
   "cell_type": "code",
   "execution_count": 28,
   "metadata": {},
   "outputs": [
    {
     "data": {
      "text/plain": [
       "<tf.Tensor: shape=(2, 1, 3), dtype=int32, numpy=\n",
       "array([[[3, 3, 3]],\n",
       "\n",
       "       [[5, 5, 5]]], dtype=int32)>"
      ]
     },
     "execution_count": 28,
     "metadata": {},
     "output_type": "execute_result"
    }
   ],
   "source": [
    "t = tf.constant(\n",
    "    [\n",
    "        [\n",
    "            [1, 1, 1], [2, 2, 2]\n",
    "        ],\n",
    "        [\n",
    "            [3, 3, 3], [4, 4, 4]\n",
    "        ],\n",
    "        [\n",
    "            [5, 5, 5], [6, 6, 6]\n",
    "        ]\n",
    "    ])\n",
    "tf.slice(t, [1, 0, 0], [1, 1, 3])  # [[[3, 3, 3]]]\n",
    "tf.slice(t, [1, 0, 0], [1, 2, 3])  # [[[3, 3, 3],\n",
    "                                   #   [4, 4, 4]]]\n",
    "tf.slice(t, [1, 0, 0], [2, 1, 3])  # [[[3, 3, 3]],\n",
    "                                   #  [[5, 5, 5]]]"
   ]
  },
  {
   "cell_type": "code",
   "execution_count": 31,
   "metadata": {},
   "outputs": [
    {
     "name": "stdout",
     "output_type": "stream",
     "text": [
      "tf.Tensor(\n",
      "[[42.99212  39.830017]\n",
      " [40.0785   38.94884 ]\n",
      " [47.74065  49.51425 ]], shape=(3, 2), dtype=float32)\n"
     ]
    }
   ],
   "source": [
    "random_normal_tensor = tf.random.normal(\n",
    "    [3,2],\n",
    "    mean=50,\n",
    "    stddev=10.0\n",
    ")\n",
    "print(random_normal_tensor)"
   ]
  },
  {
   "cell_type": "code",
   "execution_count": 32,
   "metadata": {},
   "outputs": [
    {
     "name": "stdout",
     "output_type": "stream",
     "text": [
      "tf.Tensor([ 7.2950935 19.130877   4.4281697  8.248029  16.58386  ], shape=(5,), dtype=float32)\n"
     ]
    }
   ],
   "source": [
    "random_uniform_tensor = tf.random.uniform(\n",
    "    [5,],\n",
    "    minval=0,\n",
    "    maxval=20\n",
    ")\n",
    "print(random_uniform_tensor)"
   ]
  },
  {
   "cell_type": "code",
   "execution_count": 33,
   "metadata": {},
   "outputs": [
    {
     "name": "stdout",
     "output_type": "stream",
     "text": [
      "tf.Tensor(\n",
      "[[ 16.336384    5.2735615  -8.270335  -12.3969555]\n",
      " [ 10.375191    9.092659    1.5568638  -9.204917 ]\n",
      " [ -1.3422546   1.1723671  -2.4156227 -12.623072 ]\n",
      " [ 10.633764  -14.360361   19.326149  -11.243768 ]\n",
      " [ -3.7603989  -3.8772106   5.256033   19.497982 ]], shape=(5, 4), dtype=float32)\n"
     ]
    }
   ],
   "source": [
    "random_uniform_tensor = tf.random.uniform(\n",
    "    [5,4],\n",
    "    minval=-20,\n",
    "    maxval=20\n",
    ")\n",
    "print(random_uniform_tensor)"
   ]
  },
  {
   "cell_type": "code",
   "execution_count": 36,
   "metadata": {},
   "outputs": [
    {
     "name": "stdout",
     "output_type": "stream",
     "text": [
      "tf.Tensor(\n",
      "[[0.85591054 0.32390785 0.6447526 ]\n",
      " [0.8316823  0.16297233 0.14103293]\n",
      " [0.2647568  0.2954973  0.6597587 ]\n",
      " [0.7494894  0.32736623 0.9407855 ]], shape=(4, 3), dtype=float32)\n",
      "tf.Tensor([0.1689806], shape=(1,), dtype=float32)\n",
      "tf.Tensor(\n",
      "[[0.1689806  0.9725481  0.90036285 0.16582811 0.1454581 ]\n",
      " [0.48029935 0.02495587 0.99239147 0.02835405 0.10649502]], shape=(2, 5), dtype=float32)\n",
      "tf.Tensor([0.85591054], shape=(1,), dtype=float32)\n"
     ]
    }
   ],
   "source": [
    "tf.random.set_seed(1234)\n",
    "print(tf.random.uniform([4,3], seed=10))  # generates 'A1'\n",
    "print(tf.random.uniform([1], seed=1))  # generates 'A2'\n",
    "tf.random.set_seed(1234)\n",
    "print(tf.random.uniform([2,5], seed=1))  # generates 'A1'\n",
    "print(tf.random.uniform([1], seed=10))  # generates 'A2'"
   ]
  },
  {
   "cell_type": "code",
   "execution_count": 43,
   "metadata": {},
   "outputs": [
    {
     "name": "stdout",
     "output_type": "stream",
     "text": [
      "tf.Tensor([  1   2   5 -19  -8   6], shape=(6,), dtype=int32)\n",
      "tf.Tensor([  1   2   5 -19], shape=(4,), dtype=int32)\n",
      "tf.Tensor([  1   2   5 -19], shape=(4,), dtype=int32)\n",
      "tf.Tensor([  5 -19  -8   6], shape=(4,), dtype=int32)\n",
      "tf.Tensor([  5 -19  -8], shape=(3,), dtype=int32)\n",
      "tf.Tensor([  2   5 -19  -8], shape=(4,), dtype=int32)\n",
      "tf.Tensor([ 1  5 -8], shape=(3,), dtype=int32)\n"
     ]
    }
   ],
   "source": [
    "tensor_indexed = tf.constant(\n",
    "    [1, 2, 5, -19, -8, 6]\n",
    ")\n",
    "print(tensor_indexed)\n",
    "print(tensor_indexed[0:4])\n",
    "print(tensor_indexed[:4]) #start from 0 index\n",
    "print(tensor_indexed[2:]) #start from index 2 to end index\n",
    "print(tensor_indexed[2:-1]) #start from index 2 and leave 1 index from end\n",
    "print(tensor_indexed[1:5])\n",
    "print(tensor_indexed[0:6:2])"
   ]
  },
  {
   "cell_type": "code",
   "execution_count": 54,
   "metadata": {},
   "outputs": [
    {
     "name": "stdout",
     "output_type": "stream",
     "text": [
      "tf.Tensor(\n",
      "[[ 1  2]\n",
      " [ 5  3]\n",
      " [-5  8]], shape=(3, 2), dtype=int32)\n",
      "tf.Tensor(\n",
      "[[3 2]\n",
      " [8 9]], shape=(2, 2), dtype=int32)\n",
      "tf.Tensor(\n",
      "[[ 1  2  3  5]\n",
      " [ 5  3  2 33]\n",
      " [-5  8  9  0]], shape=(3, 4), dtype=int32)\n",
      "tf.Tensor([  6  -4  -7 -11], shape=(4,), dtype=int32)\n",
      "tf.Tensor([ 1  5 -5  6  5], shape=(5,), dtype=int32)\n",
      "tf.Tensor([ 1  5 -5  6  5], shape=(5,), dtype=int32)\n",
      "tf.Tensor([ 2  3  8 -4  9], shape=(5,), dtype=int32)\n"
     ]
    }
   ],
   "source": [
    "tensor_indexed_two_d = tf.constant(\n",
    "    [\n",
    "        [1,2,3,5],\n",
    "        [5,3,2,33],\n",
    "        [-5,8,9,0],\n",
    "        [6,-4,-7,-11],\n",
    "        [5,9,2,7]\n",
    "    ]\n",
    ")\n",
    "print(tensor_indexed_two_d[0:3, 0:2]) #first 2 column from first 3 rows\n",
    "print(tensor_indexed_two_d[1:3, 1:3])\n",
    "print(tensor_indexed_two_d[0:3, :]) #first 3 rows and all the columns\n",
    "print(tensor_indexed_two_d[3, :]) #fourth row and all columns\n",
    "print(tensor_indexed_two_d[:, 0]) #first column from all rows\n",
    "print(tensor_indexed_two_d[..., 0]) #same as above\n",
    "print(tensor_indexed_two_d[:, 1])"
   ]
  },
  {
   "cell_type": "code",
   "execution_count": 58,
   "metadata": {},
   "outputs": [
    {
     "name": "stdout",
     "output_type": "stream",
     "text": [
      "tf.Tensor(\n",
      "[[[ 5  3  2 33]\n",
      "  [-5  8  9  0]]\n",
      "\n",
      " [[ 4  3 -7 33]\n",
      "  [ 5  5  9  0]]], shape=(2, 2, 4), dtype=int32)\n",
      "tf.Tensor(\n",
      "[[ -1   2   3   5]\n",
      " [ -5   9   2  33]\n",
      " [ -5  90  96  70]\n",
      " [ -6   4 -71 -11]\n",
      " [ -5  99  12  27]], shape=(5, 4), dtype=int32)\n",
      "tf.Tensor(\n",
      "[[  3   2   9  -7   2]\n",
      " [  3  -7   9  -7  -2]\n",
      " [  3   2  96 -71  12]\n",
      " [ -3   2  92  -7  21]], shape=(4, 5), dtype=int32)\n"
     ]
    }
   ],
   "source": [
    "tensor_indexed_three_d = tf.constant(\n",
    "    [\n",
    "        [\n",
    "            [1,2,3,5],\n",
    "            [5,3,2,33],\n",
    "            [-5,8,9,0],\n",
    "            [6,-4,-7,-11],\n",
    "            [5,9,2,7]\n",
    "        ],\n",
    "        [\n",
    "            [3,5,3,5],\n",
    "            [4,3,-7,33],\n",
    "            [5,5,9,0],\n",
    "            [6,4,-7,-11],\n",
    "            [7,-9,-2,7]\n",
    "        ],\n",
    "        [\n",
    "            [-1,2,3,5],\n",
    "            [-5,9,2,33],\n",
    "            [-5,90,96,70],\n",
    "            [-6,4,-71,-11],\n",
    "            [-5,99,12,27]\n",
    "        ],\n",
    "        [\n",
    "            [12,-2,-3,54],\n",
    "            [53,34,2,33],\n",
    "            [-56,8,92,0],\n",
    "            [61,-44,-7,-11],\n",
    "            [53,49,21,87]\n",
    "        ]\n",
    "    ]\n",
    ")\n",
    "print(tensor_indexed_three_d[0:2, 1:3, :])\n",
    "print(tensor_indexed_three_d[2, :, :]) #all values in 2nd index\n",
    "print(tensor_indexed_three_d[:, :, -2]) "
   ]
  },
  {
   "cell_type": "code",
   "execution_count": null,
   "metadata": {},
   "outputs": [],
   "source": []
  }
 ],
 "metadata": {
  "kernelspec": {
   "display_name": "deep_learning",
   "language": "python",
   "name": "python3"
  },
  "language_info": {
   "codemirror_mode": {
    "name": "ipython",
    "version": 3
   },
   "file_extension": ".py",
   "mimetype": "text/x-python",
   "name": "python",
   "nbconvert_exporter": "python",
   "pygments_lexer": "ipython3",
   "version": "3.11.5"
  }
 },
 "nbformat": 4,
 "nbformat_minor": 2
}

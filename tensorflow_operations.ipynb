{
 "cells": [
  {
   "cell_type": "code",
   "execution_count": 1,
   "metadata": {},
   "outputs": [],
   "source": [
    "import tensorflow as tf"
   ]
  },
  {
   "cell_type": "code",
   "execution_count": 9,
   "metadata": {},
   "outputs": [
    {
     "name": "stdout",
     "output_type": "stream",
     "text": [
      "tf.Tensor(\n",
      "[[1.  2.  3.6 4. ]\n",
      " [6.  4.4 5.5 3. ]], shape=(2, 4), dtype=float32)\n",
      "tf.Tensor(\n",
      "[[1 2 3 4]\n",
      " [6 4 5 3]], shape=(2, 4), dtype=int16)\n"
     ]
    }
   ],
   "source": [
    "two_d_tensor = tf.constant(\n",
    "    [\n",
    "        [1,2,3.6,4],\n",
    "        [6,4.4,5.5,3]\n",
    "    ], \n",
    "    dtype=tf.float32\n",
    ")\n",
    "\n",
    "cast_two_d_tensor = tf.cast(two_d_tensor, dtype=tf.int16)\n",
    "print(two_d_tensor)\n",
    "print(cast_two_d_tensor)"
   ]
  },
  {
   "cell_type": "code",
   "execution_count": 5,
   "metadata": {},
   "outputs": [
    {
     "name": "stdout",
     "output_type": "stream",
     "text": [
      "tf.Tensor(\n",
      "[[[1 2 3]\n",
      "  [9 3 7]]\n",
      "\n",
      " [[1 2 9]\n",
      "  [0 7 7]]], shape=(2, 2, 3), dtype=int32)\n",
      "(2, 2, 3)\n",
      "3\n"
     ]
    }
   ],
   "source": [
    "three_d_tensor = tf.constant(\n",
    "    [\n",
    "        [\n",
    "            [1,2,3],\n",
    "            [9,3,7]\n",
    "        ],\n",
    "        [\n",
    "            [1,2,9],\n",
    "            [0,7,7]\n",
    "        ]\n",
    "    ]\n",
    ")\n",
    "print(three_d_tensor)\n",
    "print(three_d_tensor.shape)\n",
    "print(three_d_tensor.ndim)"
   ]
  },
  {
   "cell_type": "code",
   "execution_count": 6,
   "metadata": {},
   "outputs": [
    {
     "name": "stdout",
     "output_type": "stream",
     "text": [
      "tf.Tensor(\n",
      "[[[[ 1  2  3]\n",
      "   [ 9  3  7]]\n",
      "\n",
      "  [[ 1  2  9]\n",
      "   [ 0  7  7]]\n",
      "\n",
      "  [[ 8  2  3]\n",
      "   [-9  3  7]]\n",
      "\n",
      "  [[ 5  8  9]\n",
      "   [ 9 -8  7]]]], shape=(1, 4, 2, 3), dtype=int32)\n"
     ]
    }
   ],
   "source": [
    "four_d_tensor = tf.constant(\n",
    "    [\n",
    "        [\n",
    "            [\n",
    "                [1,2,3],\n",
    "                [9,3,7]\n",
    "            ],\n",
    "            [\n",
    "                [1,2,9],\n",
    "                [0,7,7]\n",
    "            ],\n",
    "            [\n",
    "                [8,2,3],\n",
    "                [-9,3,7]\n",
    "            ],\n",
    "            [\n",
    "                [5,8,9],\n",
    "                [9,-8,7]\n",
    "            ]\n",
    "        ]\n",
    "    ]\n",
    ")\n",
    "print(four_d_tensor)"
   ]
  },
  {
   "cell_type": "code",
   "execution_count": 10,
   "metadata": {},
   "outputs": [],
   "source": [
    "import numpy as np"
   ]
  },
  {
   "cell_type": "code",
   "execution_count": 11,
   "metadata": {},
   "outputs": [
    {
     "name": "stdout",
     "output_type": "stream",
     "text": [
      "[ 2 -5  8]\n"
     ]
    }
   ],
   "source": [
    "num_array = np.array([2, -5, 8])\n",
    "print(num_array)"
   ]
  },
  {
   "cell_type": "code",
   "execution_count": 12,
   "metadata": {},
   "outputs": [
    {
     "name": "stdout",
     "output_type": "stream",
     "text": [
      "tf.Tensor([ 2 -5  8], shape=(3,), dtype=int64)\n"
     ]
    }
   ],
   "source": [
    "converted_to_tensor = tf.convert_to_tensor(num_array)\n",
    "print(converted_to_tensor)"
   ]
  },
  {
   "cell_type": "code",
   "execution_count": 16,
   "metadata": {},
   "outputs": [
    {
     "name": "stdout",
     "output_type": "stream",
     "text": [
      "tf.Tensor(\n",
      "[[1. 0. 0. 0.]\n",
      " [0. 1. 0. 0.]\n",
      " [0. 0. 1. 0.]], shape=(3, 4), dtype=float32)\n",
      "tf.Tensor(\n",
      "[[3. 0. 0. 0.]\n",
      " [0. 3. 0. 0.]\n",
      " [0. 0. 3. 0.]], shape=(3, 4), dtype=float32)\n"
     ]
    }
   ],
   "source": [
    "eye_tensor = tf.eye(num_rows=3, num_columns=4)\n",
    "print(eye_tensor)\n",
    "print(3*eye_tensor)"
   ]
  },
  {
   "cell_type": "code",
   "execution_count": 18,
   "metadata": {},
   "outputs": [
    {
     "name": "stdout",
     "output_type": "stream",
     "text": [
      "tf.Tensor(\n",
      "[[[[1. 0. 0. 0.]\n",
      "   [0. 1. 0. 0.]\n",
      "   [0. 0. 1. 0.]]\n",
      "\n",
      "  [[1. 0. 0. 0.]\n",
      "   [0. 1. 0. 0.]\n",
      "   [0. 0. 1. 0.]]]\n",
      "\n",
      "\n",
      " [[[1. 0. 0. 0.]\n",
      "   [0. 1. 0. 0.]\n",
      "   [0. 0. 1. 0.]]\n",
      "\n",
      "  [[1. 0. 0. 0.]\n",
      "   [0. 1. 0. 0.]\n",
      "   [0. 0. 1. 0.]]]], shape=(2, 2, 3, 4), dtype=float32)\n",
      "tf.Tensor(\n",
      "[[[1. 0. 0. 0.]\n",
      "  [0. 1. 0. 0.]\n",
      "  [0. 0. 1. 0.]]\n",
      "\n",
      " [[1. 0. 0. 0.]\n",
      "  [0. 1. 0. 0.]\n",
      "  [0. 0. 1. 0.]]], shape=(2, 3, 4), dtype=float32)\n"
     ]
    }
   ],
   "source": [
    "eye_tensor_four = tf.eye(num_rows=3, num_columns=4, batch_shape=[2,2])\n",
    "eye_tensor_three = tf.eye(num_rows=3, num_columns=4, batch_shape=[2,])\n",
    "print(eye_tensor_four)\n",
    "print(eye_tensor_three)"
   ]
  },
  {
   "cell_type": "code",
   "execution_count": null,
   "metadata": {},
   "outputs": [],
   "source": []
  }
 ],
 "metadata": {
  "kernelspec": {
   "display_name": "deep_learning",
   "language": "python",
   "name": "python3"
  },
  "language_info": {
   "codemirror_mode": {
    "name": "ipython",
    "version": 3
   },
   "file_extension": ".py",
   "mimetype": "text/x-python",
   "name": "python",
   "nbconvert_exporter": "python",
   "pygments_lexer": "ipython3",
   "version": "3.11.5"
  }
 },
 "nbformat": 4,
 "nbformat_minor": 2
}
